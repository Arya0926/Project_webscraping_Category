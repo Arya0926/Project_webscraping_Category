{
 "cells": [
  {
   "cell_type": "markdown",
   "id": "a1f38767",
   "metadata": {},
   "source": [
    "# Write a python program to displayed products count number by products main categories and sub categories.\n",
    "### Enter 1 put value link = Yoshops.com\n",
    "### Enter 2 put categories link=\n",
    "#### Output = create excel file with Name Category, Products count,Total products count"
   ]
  },
  {
   "cell_type": "code",
   "execution_count": 5,
   "id": "6a8eb8e3",
   "metadata": {},
   "outputs": [
    {
     "name": "stdout",
     "output_type": "stream",
     "text": [
      "Enter 1 To access Link: 1\n",
      "Enter link: https://yoshops.com\n",
      "Enter 2 To access Category: 2\n",
      "Enter Category Type :smartphones\n"
     ]
    }
   ],
   "source": [
    "from bs4 import BeautifulSoup\n",
    "import requests\n",
    "import pandas as pd\n",
    "\n",
    "a = int(input(\"Enter 1 To access Link: \"))\n",
    "url = 0 \n",
    "\n",
    "if a==1:\n",
    "    url = input(\"Enter link: \")\n",
    "    b = int(input(\"Enter 2 To access Category: \"))\n",
    "    if b==2:\n",
    "        category = input(\"Enter Category Type :\")\n",
    "        url= url + '/t/' + category\n",
    "    else:\n",
    "        print(\"Enter Valid Input\")\n",
    "else:\n",
    "    print(\"Enter Valid Input: \")\n",
    "    \n",
    "headers = {'User-Agent': 'Mozilla/5.0 (Macintosh; Intel Mac OS X 10_11_5) AppleWebKit/537.36 (KHTML, like Gecko) Chrome/50.0.2661.102 Safari/537.36'}\n",
    "response = requests.get(url,headers = headers)\n",
    "\n",
    "content = response.text\n",
    "\n",
    "soup = BeautifulSoup(content,'html.parser')\n",
    "\n",
    "products = soup.find_all('span',{'class':'product-title'})\n",
    "products_list = []\n",
    "for i in products:\n",
    "    products_list.append(i.text)\n",
    "count = 0\n",
    "product_ct = []\n",
    "ct = []\n",
    "for i in products_list:\n",
    "    if i in ct:\n",
    "        count += 1\n",
    "        product_ct.append(count)\n",
    "    else:\n",
    "        product_ct.append((count+1))\n",
    "        ct.append(i)\n",
    "\n",
    "price_list = soup.find_all('div',{'class':'product-price'})\n",
    "price = []\n",
    "discounted_price = []\n",
    "for j in price_list:\n",
    "    price.append(j.text.split('₹')[1])\n",
    "    discounted_price.append(j.text.split('₹')[2])\n",
    "\n",
    "Cat = soup.find('ol', {'class': 'breadcrumb'} )\n",
    "temp_list = Cat.text.split('\\n')\n",
    "Major_cat = temp_list[2]\n",
    "\n",
    "prod_dic = {'Category':Major_cat,'Sub-Category':category,'Product_Name':products_list, 'Price':price, 'Discounted Price':discounted_price, 'Product Count':product_ct}\n",
    "\n",
    "data = pd.DataFrame(prod_dic)\n",
    "\n",
    "count = len(data['Product_Name'])\n",
    "data.loc['Total Count', 'Product Count'] = count\n",
    "\n",
    "\n",
    "data.to_excel(category+\".xlsx\")"
   ]
  },
  {
   "cell_type": "code",
   "execution_count": 4,
   "id": "a259ddea",
   "metadata": {},
   "outputs": [
    {
     "name": "stdout",
     "output_type": "stream",
     "text": [
      "https://yoshops.com/t/smartphones\n"
     ]
    }
   ],
   "source": [
    "print(url)"
   ]
  },
  {
   "cell_type": "code",
   "execution_count": 6,
   "id": "362d6a3b",
   "metadata": {},
   "outputs": [
    {
     "name": "stdout",
     "output_type": "stream",
     "text": [
      "            Category Sub-Category  \\\n",
      "0            Mobiles  smartphones   \n",
      "1            Mobiles  smartphones   \n",
      "2            Mobiles  smartphones   \n",
      "3            Mobiles  smartphones   \n",
      "4            Mobiles  smartphones   \n",
      "Total Count      NaN          NaN   \n",
      "\n",
      "                                                  Product_Name     Price  \\\n",
      "0            Samsung Galaxy M01 Core 1GB RAM with 16GB Stor...  7,800.00   \n",
      "1            Samsung Galaxy M01 Core 2GB RAM with 32GB Stor...  9,872.00   \n",
      "2              Itel A23 Storage 8 GB, 1 GB RAM Jio Sim support  5,500.00   \n",
      "3                             Itel A25 Storage 16 GB, 1 GB RAM  7,500.00   \n",
      "4              JioPhone Smartphone Next 32 GB, 2 GB RAM, Black  8,500.00   \n",
      "Total Count                                                NaN       NaN   \n",
      "\n",
      "            Discounted Price  Product Count  \n",
      "0                   5,499.00            1.0  \n",
      "1                   6,499.00            1.0  \n",
      "2                   3,999.00            1.0  \n",
      "3                   4,999.00            1.0  \n",
      "4                   6,499.00            1.0  \n",
      "Total Count              NaN            5.0  \n"
     ]
    }
   ],
   "source": [
    "print (data)"
   ]
  },
  {
   "cell_type": "code",
   "execution_count": null,
   "id": "70d626a4",
   "metadata": {},
   "outputs": [],
   "source": []
  }
 ],
 "metadata": {
  "kernelspec": {
   "display_name": "Python 3 (ipykernel)",
   "language": "python",
   "name": "python3"
  },
  "language_info": {
   "codemirror_mode": {
    "name": "ipython",
    "version": 3
   },
   "file_extension": ".py",
   "mimetype": "text/x-python",
   "name": "python",
   "nbconvert_exporter": "python",
   "pygments_lexer": "ipython3",
   "version": "3.9.13"
  }
 },
 "nbformat": 4,
 "nbformat_minor": 5
}
